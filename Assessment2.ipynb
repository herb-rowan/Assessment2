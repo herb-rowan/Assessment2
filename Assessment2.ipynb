{
 "cells": [
  {
   "cell_type": "markdown",
   "metadata": {},
   "source": [
    "# Intermediate scientific computing assessment: Modules, classes and version control\n",
    "\n",
    "You have been employed as a research software engineer for a scientific research group. The group makes measurements of greenhouse gas concentrations in the atmosphere. They are asking for your help to build a software package that allows them to:\n",
    "\n",
    "1. Load their data into python, accompanied by appropriate metadata (gas species, measurement site name, calibration scales, units)\n",
    "2. Carry out some basic operations on that data, such as averaging, trend fitting, estimating baseline values, etc.\n",
    "3. Visualise the data.\n",
    "\n",
    "The time series data looks like this (more details below):\n",
    "\n",
    "![](figures/CH4_data_example.png)\n",
    "\n",
    "Your task is to build:\n",
    "1. A module with the following elements:\n",
    "    - A ```Data``` class that stores the data and the following metadata:\n",
    "        - gas species name\n",
    "        - site code\n",
    "        - units\n",
    "        - calibration scale\n",
    "    - A method of the ```Data``` class that carries out at least one operation on the data. **This/these methods are entirely for you to devise and choose**. For example, your method(s) could:\n",
    "        - calculate daily or monthly averages\n",
    "        - estimate baseline values. I.e., those values that are closest to the \"clean\" background air concentrations (see schematic). This could be calculated, for example, as the 5th percentile over some moving window.\n",
    "        - calculate a trend, or fit a polynomial\n",
    "    - A method of the ```Data``` class that plots the data, and uses the metadata appropriately (e.g., adds the appropriate units to the axis labels, and annotates the plot with information about the site and species). The plot could also, optionally, show some of the features of the method that you've developed (e.g., overplots a moving average or a trend)\n",
    "2. A Jupyter notebook that provides the greenhouse gas scientists with a tutorial on how to use the key features of your module. The notebook should demonstrate how to:\n",
    "    - create an instance of the ```Data``` class, for a particular site and species\n",
    "    - view the metadata and data stored in the ```Data``` class\n",
    "    - use the method(s) of the ```Data``` class\n",
    "    - plot the data for at least two species or sites\n",
    "\n",
    "## The data\n",
    "\n",
    "The greenhouse gas data consists of time series' of the gases carbon dioxide (CO2), methane (CH4) and nitrous oxide (N2O) at two measurement sites, which have the following site codes:\n",
    "- \"MHD\": Mace Head, W. coast of the Republic of Ireland\n",
    "- \"TAC\": Tacolneston, East Anglia\n",
    "\n",
    "Data files are in the \"data\" folder, and have the naming format:\n",
    "\n",
    "```\n",
    "<site_code>_<species>.csv\n",
    "```\n",
    "\n",
    "These csv files have two columns, one containing the date and time of the measurement, and one, labeled \"mf\", containing the mole fraction for each species.\n",
    "\n",
    "Information on the units and calibration scale for each species are in the file ```species_info.csv```. Units are either mole fractions as parts per million (ppm) or parts per billion (ppb). The calibration scale is the name of the lab where the primary gas standard was created (either the \"National Oceanic and Atmospheric Administration\", NOAA, or \"Scripps Institution of Oceanography\", SIO). Because gas standards differ to one another, it's important to note which calibration scale the reported numbers are relative to."
   ]
  },
  {
   "cell_type": "markdown",
   "metadata": {},
   "source": [
    "## How to submit\n",
    "\n",
    "Upload to Blackboard *either*:\n",
    "1. A git bundle containing your module(s), notebook and the data (use the suffix ```.bundle```). See Appendix.\n",
    "2. A zip file containing your module(s), notebook and the data\n",
    "\n",
    "Please ensure that the data is included in your submitted file, so that the assessors can run your code."
   ]
  },
  {
   "cell_type": "markdown",
   "metadata": {},
   "source": [
    "## *Appendix: creating a git bundle*\n",
    "\n",
    "You can create a git bundle from a git repository by doing the following:\n",
    "1. Navigate into your git repository folder\n",
    "\n",
    "2. Type:\n",
    "```\n",
    "git bundle create some/path/Assessment2_MYNAME.bundle --all\n",
    "```\n",
    "where you should change \"some/path/Assessment2_MYNAME.bundle\" to the path where you want to create your bundle file (e.g. /home/myusername/Assessment2_MYNAME.bundle). *Make sure this path is outside of your git repo.*\n",
    "\n",
    "3. You can test that your bundle has been created properly by navigating to the folder where your bundle file is stored, and typing \n",
    "```\n",
    "git clone Assessment2_MYNAME.bundle\n",
    "```\n",
    "This should create a new folder called \"Assessment_MYNAME\", which contains your code, data and git history."
   ]
  },
  {
   "cell_type": "markdown",
   "metadata": {},
   "source": []
  }
 ],
 "metadata": {
  "kernelspec": {
   "display_name": "Python 3",
   "language": "python",
   "name": "python3"
  },
  "language_info": {
   "codemirror_mode": {
    "name": "ipython",
    "version": 3
   },
   "file_extension": ".py",
   "mimetype": "text/x-python",
   "name": "python",
   "nbconvert_exporter": "python",
   "pygments_lexer": "ipython3",
   "version": "3.10.9 (tags/v3.10.9:1dd9be6, Dec  6 2022, 20:01:21) [MSC v.1934 64 bit (AMD64)]"
  },
  "vscode": {
   "interpreter": {
    "hash": "ac019dee71ffef3809770ffe242ff2d710330653f213693e1080cdb322017d07"
   }
  }
 },
 "nbformat": 4,
 "nbformat_minor": 4
}
