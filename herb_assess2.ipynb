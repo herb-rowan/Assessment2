{
 "cells": [
  {
   "attachments": {},
   "cell_type": "markdown",
   "metadata": {},
   "source": [
    "# Assessment 2"
   ]
  },
  {
   "cell_type": "code",
   "execution_count": 16,
   "metadata": {},
   "outputs": [],
   "source": [
    "# importing modules\n",
    "import pandas as pd\n",
    "import numpy as np\n",
    "import matplotlib.pyplot as plt"
   ]
  },
  {
   "cell_type": "code",
   "execution_count": 44,
   "metadata": {},
   "outputs": [
    {
     "name": "stdout",
     "output_type": "stream",
     "text": [
      "  species scale units\n",
      "0     co2  noaa   ppm\n",
      "1     ch4   sio   ppb\n",
      "2     n2o   sio   ppb\n"
     ]
    }
   ],
   "source": [
    "#reading in the data for mhd\n",
    "mhd_ch4 = pd.read_csv('data/mhd_ch4.csv')\n",
    "mhd_co2= pd.read_csv('data/mhd_co2.csv')\n",
    "mhd_n2o = pd.read_csv('data/mhd_n2o.csv')\n",
    "\n",
    "#reading in data for tac\n",
    "tac_ch4 = pd.read_csv('data/tac_ch4.csv')\n",
    "tac_co2= pd.read_csv('data/tac_co2.csv')\n",
    "tac_n2o = pd.read_csv('data/tac_n2o.csv')\n",
    "\n",
    "#reading in species information\n",
    "spec_info = pd.read_csv('data/species_info.csv')  \n",
    "print(spec_info)\n",
    "#creating dictionaries to make it easier to access data\n",
    "tac_mhd = {'tac_ch4': tac_ch4, 'tac_co2': tac_co2, 'tac_n2o': tac_n2o, 'mhd_ch4':mhd_ch4, 'mhd_co2':mhd_co2, 'mhd_n2o':mhd_n2o}\n",
    "\n"
   ]
  },
  {
   "cell_type": "code",
   "execution_count": 18,
   "metadata": {},
   "outputs": [],
   "source": [
    "# class Data:\n",
    "#  def __init__(self,data_tac,data_mhd):\n",
    "#     self.data_tac = data_tac\n",
    "#     self.data_mhd = data_mhd\n",
    "#  def tac_metadata(self):\n",
    "#     print(self.data_mhd)\n",
    "# data = Data(data_tac['tac_ch4'], data_mhd['mhd_ch4'])\n",
    "# data.tac_metadata()"
   ]
  },
  {
   "cell_type": "code",
   "execution_count": 48,
   "metadata": {},
   "outputs": [
    {
     "name": "stdout",
     "output_type": "stream",
     "text": [
      "The location of this data set is Tacolneston, East Anglia.\n",
      "The site code is TAC\n",
      "co2\n",
      "                     time         mf\n",
      "0     2019-01-01 00:00:00  415.11685\n",
      "1     2019-01-01 01:00:00  415.13544\n",
      "2     2019-01-01 02:00:00  415.29680\n",
      "3     2019-01-01 03:00:00  415.18658\n",
      "4     2019-01-01 04:00:00  415.20870\n",
      "...                   ...        ...\n",
      "8755  2019-12-31 19:00:00  422.56314\n",
      "8756  2019-12-31 20:00:00  425.81052\n",
      "8757  2019-12-31 21:00:00  418.67838\n",
      "8758  2019-12-31 22:00:00  422.47363\n",
      "8759  2019-12-31 23:00:00  425.63577\n",
      "\n",
      "[8760 rows x 2 columns]\n"
     ]
    }
   ],
   "source": [
    "class Data:\n",
    " def __init__(self,data: dict, file: str, info):\n",
    "    self.info = info\n",
    "    self.tac_ch4 = data['tac_ch4']\n",
    "    self.tac_co2 = data['tac_co2']\n",
    "    self.tac_n2o = data['tac_n2o']\n",
    "    self.file = file\n",
    "    \n",
    " def tac_metadata(self):\n",
    "   if self.file[:3] == 'tac':\n",
    "      print('The location of this data set is Tacolneston, East Anglia.\\nThe site code is TAC')\n",
    "   if self \n",
    "      print(self.file[4:])\n",
    "   \n",
    "   if self.file[:3] == 'mhd':\n",
    "      print('The location of this data set is Mace Head, W. coast of the Republic of Ireland.\\nThe site code is MHD')\n",
    "   \n",
    "   if self.file == 'tac_ch4':\n",
    "      print(self.tac_ch4)\n",
    "   if self.file == 'tac_co2':\n",
    "      print(self.tac_co2)\n",
    "   if self.file == 'tac_n2o':\n",
    "      print(self.tac_n2o)\n",
    "   \n",
    "data_tac = Data(tac_mhd, 'tac_co2',spec_info)\n",
    "data_tac.tac_metadata()"
   ]
  },
  {
   "cell_type": "markdown",
   "metadata": {},
   "source": []
  },
  {
   "cell_type": "code",
   "execution_count": 27,
   "metadata": {},
   "outputs": [
    {
     "ename": "TypeError",
     "evalue": "Data.tac_metadata() takes 1 positional argument but 2 were given",
     "output_type": "error",
     "traceback": [
      "\u001b[1;31m---------------------------------------------------------------------------\u001b[0m",
      "\u001b[1;31mTypeError\u001b[0m                                 Traceback (most recent call last)",
      "Cell \u001b[1;32mIn [27], line 8\u001b[0m\n\u001b[0;32m      6\u001b[0m     \u001b[39mprint\u001b[39m(\u001b[39mself\u001b[39m\u001b[39m.\u001b[39mspecies)\n\u001b[0;32m      7\u001b[0m data_tac \u001b[39m=\u001b[39m Data(tac_mhd)\n\u001b[1;32m----> 8\u001b[0m data\u001b[39m.\u001b[39;49mtac_metadata(tac_mhd[\u001b[39m'\u001b[39;49m\u001b[39mtac_ch4\u001b[39;49m\u001b[39m'\u001b[39;49m])\n",
      "\u001b[1;31mTypeError\u001b[0m: Data.tac_metadata() takes 1 positional argument but 2 were given"
     ]
    }
   ],
   "source": [
    "# class Data:\n",
    "#  def __init__(self,data: dict):\n",
    "#     self.tac_ch4 = data['tac_ch4']\n",
    "    \n",
    "#  def tac_metadata(self,species):\n",
    "#     print(self.species)\n",
    "# data_tac = Data(tac_mhd)\n",
    "# data.tac_metadata(tac_mhd['tac_ch4'])"
   ]
  }
 ],
 "metadata": {
  "kernelspec": {
   "display_name": "Python 3",
   "language": "python",
   "name": "python3"
  },
  "language_info": {
   "codemirror_mode": {
    "name": "ipython",
    "version": 3
   },
   "file_extension": ".py",
   "mimetype": "text/x-python",
   "name": "python",
   "nbconvert_exporter": "python",
   "pygments_lexer": "ipython3",
   "version": "3.10.9"
  },
  "orig_nbformat": 4,
  "vscode": {
   "interpreter": {
    "hash": "ac019dee71ffef3809770ffe242ff2d710330653f213693e1080cdb322017d07"
   }
  }
 },
 "nbformat": 4,
 "nbformat_minor": 2
}
