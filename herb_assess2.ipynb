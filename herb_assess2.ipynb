{
 "cells": [
  {
   "attachments": {},
   "cell_type": "markdown",
   "metadata": {},
   "source": [
    "# Assessment 2"
   ]
  },
  {
   "cell_type": "code",
   "execution_count": 16,
   "metadata": {},
   "outputs": [],
   "source": [
    "# importing modules\n",
    "import pandas as pd\n",
    "import numpy as np\n",
    "import matplotlib.pyplot as plt"
   ]
  },
  {
   "cell_type": "code",
   "execution_count": 17,
   "metadata": {},
   "outputs": [],
   "source": [
    "#reading in the data for mhd\n",
    "mhd_ch4 = pd.read_csv('data/mhd_ch4.csv')\n",
    "mhd_co2= pd.read_csv('data/mhd_co2.csv')\n",
    "mhd_n2o = pd.read_csv('data/mhd_n2o.csv')\n",
    "\n",
    "#reading in data for tac\n",
    "tac_ch4 = pd.read_csv('data/tac_ch4.csv')\n",
    "tac_co2= pd.read_csv('data/tac_co2.csv')\n",
    "tac_n2o = pd.read_csv('data/tac_n2o.csv')\n",
    "\n",
    "#creating dictionaries to make it easier to access data\n",
    "data_tac = {'tac_ch4': tac_ch4, 'tac_co2': tac_co2, 'tac_n2o': tac_n2o}\n",
    "data_mhd = {'mhd_ch4':mhd_ch4, 'mhd_co2':mhd_co2, 'mhd_n2o':mhd_n2o}\n",
    "\n"
   ]
  },
  {
   "cell_type": "code",
   "execution_count": 22,
   "metadata": {},
   "outputs": [
    {
     "ename": "NameError",
     "evalue": "name 'self' is not defined",
     "output_type": "error",
     "traceback": [
      "\u001b[1;31m---------------------------------------------------------------------------\u001b[0m",
      "\u001b[1;31mNameError\u001b[0m                                 Traceback (most recent call last)",
      "Cell \u001b[1;32mIn [22], line 7\u001b[0m\n\u001b[0;32m      5\u001b[0m  \u001b[39mdef\u001b[39;00m \u001b[39mtac_metadata\u001b[39m(\u001b[39mself\u001b[39m):\n\u001b[0;32m      6\u001b[0m     \u001b[39mprint\u001b[39m(data_tac[tac_ch4])\n\u001b[1;32m----> 7\u001b[0m Data\u001b[39m.\u001b[39mtac_metadata(\u001b[39mself\u001b[39;49m)\n",
      "\u001b[1;31mNameError\u001b[0m: name 'self' is not defined"
     ]
    }
   ],
   "source": [
    "class Data:\n",
    " def __init__(self,data_tac,data_mhd):\n",
    "    self.data_tac = data_tac\n",
    "    self.data_mhd = data_mhd\n",
    " def tac_metadata(self):\n",
    "    print(data_tac[tac_ch4])\n",
    "Data.tac_metadata(self)"
   ]
  }
 ],
 "metadata": {
  "kernelspec": {
   "display_name": "Python 3",
   "language": "python",
   "name": "python3"
  },
  "language_info": {
   "codemirror_mode": {
    "name": "ipython",
    "version": 3
   },
   "file_extension": ".py",
   "mimetype": "text/x-python",
   "name": "python",
   "nbconvert_exporter": "python",
   "pygments_lexer": "ipython3",
   "version": "3.10.9"
  },
  "orig_nbformat": 4,
  "vscode": {
   "interpreter": {
    "hash": "ac019dee71ffef3809770ffe242ff2d710330653f213693e1080cdb322017d07"
   }
  }
 },
 "nbformat": 4,
 "nbformat_minor": 2
}
