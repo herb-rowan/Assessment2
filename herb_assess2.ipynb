{
 "cells": [
  {
   "attachments": {},
   "cell_type": "markdown",
   "metadata": {},
   "source": [
    "# Assessment 2"
   ]
  },
  {
   "cell_type": "code",
   "execution_count": 16,
   "metadata": {},
   "outputs": [],
   "source": [
    "# importing modules\n",
    "import pandas as pd\n",
    "import numpy as np\n",
    "import matplotlib.pyplot as plt"
   ]
  },
  {
   "cell_type": "code",
   "execution_count": 44,
   "metadata": {},
   "outputs": [
    {
     "name": "stdout",
     "output_type": "stream",
     "text": [
      "  species scale units\n",
      "0     co2  noaa   ppm\n",
      "1     ch4   sio   ppb\n",
      "2     n2o   sio   ppb\n"
     ]
    }
   ],
   "source": [
    "#reading in the data for mhd\n",
    "mhd_ch4 = pd.read_csv('data/mhd_ch4.csv')\n",
    "mhd_co2= pd.read_csv('data/mhd_co2.csv')\n",
    "mhd_n2o = pd.read_csv('data/mhd_n2o.csv')\n",
    "\n",
    "#reading in data for tac\n",
    "tac_ch4 = pd.read_csv('data/tac_ch4.csv')\n",
    "tac_co2= pd.read_csv('data/tac_co2.csv')\n",
    "tac_n2o = pd.read_csv('data/tac_n2o.csv')\n",
    "\n",
    "#reading in species information\n",
    "spec_info = pd.read_csv('data/species_info.csv')  \n",
    "print(spec_info)\n",
    "#creating dictionaries to make it easier to access data\n",
    "tac_mhd = {'tac_ch4': tac_ch4, 'tac_co2': tac_co2, 'tac_n2o': tac_n2o, 'mhd_ch4':mhd_ch4, 'mhd_co2':mhd_co2, 'mhd_n2o':mhd_n2o}\n",
    "\n"
   ]
  },
  {
   "cell_type": "code",
   "execution_count": 18,
   "metadata": {},
   "outputs": [],
   "source": [
    "# class Data:\n",
    "#  def __init__(self,data_tac,data_mhd):\n",
    "#     self.data_tac = data_tac\n",
    "#     self.data_mhd = data_mhd\n",
    "#  def tac_metadata(self):\n",
    "#     print(self.data_mhd)\n",
    "# data = Data(data_tac['tac_ch4'], data_mhd['mhd_ch4'])\n",
    "# data.tac_metadata()"
   ]
  },
  {
   "cell_type": "code",
   "execution_count": 53,
   "metadata": {},
   "outputs": [
    {
     "name": "stdout",
     "output_type": "stream",
     "text": [
      "The location of this data set is Tacolneston, East Anglia.\n",
      "The site code is TAC\n",
      "the gas species is co2 \n"
     ]
    },
    {
     "ename": "KeyError",
     "evalue": "0",
     "output_type": "error",
     "traceback": [
      "\u001b[1;31m---------------------------------------------------------------------------\u001b[0m",
      "\u001b[1;31mKeyError\u001b[0m                                  Traceback (most recent call last)",
      "File \u001b[1;32m~\\AppData\\Local\\Packages\\PythonSoftwareFoundation.Python.3.10_qbz5n2kfra8p0\\LocalCache\\local-packages\\Python310\\site-packages\\pandas\\core\\indexes\\base.py:3803\u001b[0m, in \u001b[0;36mIndex.get_loc\u001b[1;34m(self, key, method, tolerance)\u001b[0m\n\u001b[0;32m   3802\u001b[0m \u001b[39mtry\u001b[39;00m:\n\u001b[1;32m-> 3803\u001b[0m     \u001b[39mreturn\u001b[39;00m \u001b[39mself\u001b[39;49m\u001b[39m.\u001b[39;49m_engine\u001b[39m.\u001b[39;49mget_loc(casted_key)\n\u001b[0;32m   3804\u001b[0m \u001b[39mexcept\u001b[39;00m \u001b[39mKeyError\u001b[39;00m \u001b[39mas\u001b[39;00m err:\n",
      "File \u001b[1;32m~\\AppData\\Local\\Packages\\PythonSoftwareFoundation.Python.3.10_qbz5n2kfra8p0\\LocalCache\\local-packages\\Python310\\site-packages\\pandas\\_libs\\index.pyx:138\u001b[0m, in \u001b[0;36mpandas._libs.index.IndexEngine.get_loc\u001b[1;34m()\u001b[0m\n",
      "File \u001b[1;32m~\\AppData\\Local\\Packages\\PythonSoftwareFoundation.Python.3.10_qbz5n2kfra8p0\\LocalCache\\local-packages\\Python310\\site-packages\\pandas\\_libs\\index.pyx:165\u001b[0m, in \u001b[0;36mpandas._libs.index.IndexEngine.get_loc\u001b[1;34m()\u001b[0m\n",
      "File \u001b[1;32mpandas\\_libs\\hashtable_class_helper.pxi:5745\u001b[0m, in \u001b[0;36mpandas._libs.hashtable.PyObjectHashTable.get_item\u001b[1;34m()\u001b[0m\n",
      "File \u001b[1;32mpandas\\_libs\\hashtable_class_helper.pxi:5753\u001b[0m, in \u001b[0;36mpandas._libs.hashtable.PyObjectHashTable.get_item\u001b[1;34m()\u001b[0m\n",
      "\u001b[1;31mKeyError\u001b[0m: 0",
      "\nThe above exception was the direct cause of the following exception:\n",
      "\u001b[1;31mKeyError\u001b[0m                                  Traceback (most recent call last)",
      "Cell \u001b[1;32mIn [53], line 26\u001b[0m\n\u001b[0;32m     23\u001b[0m       \u001b[39mprint\u001b[39m(\u001b[39mself\u001b[39m\u001b[39m.\u001b[39mtac_n2o)\n\u001b[0;32m     25\u001b[0m data_tac \u001b[39m=\u001b[39m Data(tac_mhd, \u001b[39m'\u001b[39m\u001b[39mtac_co2\u001b[39m\u001b[39m'\u001b[39m,spec_info)\n\u001b[1;32m---> 26\u001b[0m data_tac\u001b[39m.\u001b[39;49mtac_metadata()\n",
      "Cell \u001b[1;32mIn [53], line 17\u001b[0m, in \u001b[0;36mData.tac_metadata\u001b[1;34m(self)\u001b[0m\n\u001b[0;32m     15\u001b[0m \u001b[39mprint\u001b[39m(\u001b[39mf\u001b[39m\u001b[39m'\u001b[39m\u001b[39mthe gas species is \u001b[39m\u001b[39m{\u001b[39;00m\u001b[39mself\u001b[39m\u001b[39m.\u001b[39mfile[\u001b[39m4\u001b[39m:]\u001b[39m}\u001b[39;00m\u001b[39m \u001b[39m\u001b[39m'\u001b[39m)\n\u001b[0;32m     16\u001b[0m row \u001b[39m=\u001b[39m \u001b[39mself\u001b[39m\u001b[39m.\u001b[39minfo\u001b[39m.\u001b[39mloc[\u001b[39mself\u001b[39m\u001b[39m.\u001b[39minfo[\u001b[39m'\u001b[39m\u001b[39mspecies\u001b[39m\u001b[39m'\u001b[39m] \u001b[39m==\u001b[39m \u001b[39mself\u001b[39m\u001b[39m.\u001b[39mfile[\u001b[39m4\u001b[39m:]]\n\u001b[1;32m---> 17\u001b[0m \u001b[39mprint\u001b[39m(row[\u001b[39m0\u001b[39;49m])\n\u001b[0;32m     18\u001b[0m \u001b[39mif\u001b[39;00m \u001b[39mself\u001b[39m\u001b[39m.\u001b[39mfile \u001b[39m==\u001b[39m \u001b[39m'\u001b[39m\u001b[39mtac_ch4\u001b[39m\u001b[39m'\u001b[39m:\n\u001b[0;32m     19\u001b[0m    \u001b[39mprint\u001b[39m(\u001b[39mself\u001b[39m\u001b[39m.\u001b[39mtac_ch4)\n",
      "File \u001b[1;32m~\\AppData\\Local\\Packages\\PythonSoftwareFoundation.Python.3.10_qbz5n2kfra8p0\\LocalCache\\local-packages\\Python310\\site-packages\\pandas\\core\\frame.py:3804\u001b[0m, in \u001b[0;36mDataFrame.__getitem__\u001b[1;34m(self, key)\u001b[0m\n\u001b[0;32m   3802\u001b[0m \u001b[39mif\u001b[39;00m \u001b[39mself\u001b[39m\u001b[39m.\u001b[39mcolumns\u001b[39m.\u001b[39mnlevels \u001b[39m>\u001b[39m \u001b[39m1\u001b[39m:\n\u001b[0;32m   3803\u001b[0m     \u001b[39mreturn\u001b[39;00m \u001b[39mself\u001b[39m\u001b[39m.\u001b[39m_getitem_multilevel(key)\n\u001b[1;32m-> 3804\u001b[0m indexer \u001b[39m=\u001b[39m \u001b[39mself\u001b[39;49m\u001b[39m.\u001b[39;49mcolumns\u001b[39m.\u001b[39;49mget_loc(key)\n\u001b[0;32m   3805\u001b[0m \u001b[39mif\u001b[39;00m is_integer(indexer):\n\u001b[0;32m   3806\u001b[0m     indexer \u001b[39m=\u001b[39m [indexer]\n",
      "File \u001b[1;32m~\\AppData\\Local\\Packages\\PythonSoftwareFoundation.Python.3.10_qbz5n2kfra8p0\\LocalCache\\local-packages\\Python310\\site-packages\\pandas\\core\\indexes\\base.py:3805\u001b[0m, in \u001b[0;36mIndex.get_loc\u001b[1;34m(self, key, method, tolerance)\u001b[0m\n\u001b[0;32m   3803\u001b[0m     \u001b[39mreturn\u001b[39;00m \u001b[39mself\u001b[39m\u001b[39m.\u001b[39m_engine\u001b[39m.\u001b[39mget_loc(casted_key)\n\u001b[0;32m   3804\u001b[0m \u001b[39mexcept\u001b[39;00m \u001b[39mKeyError\u001b[39;00m \u001b[39mas\u001b[39;00m err:\n\u001b[1;32m-> 3805\u001b[0m     \u001b[39mraise\u001b[39;00m \u001b[39mKeyError\u001b[39;00m(key) \u001b[39mfrom\u001b[39;00m \u001b[39merr\u001b[39;00m\n\u001b[0;32m   3806\u001b[0m \u001b[39mexcept\u001b[39;00m \u001b[39mTypeError\u001b[39;00m:\n\u001b[0;32m   3807\u001b[0m     \u001b[39m# If we have a listlike key, _check_indexing_error will raise\u001b[39;00m\n\u001b[0;32m   3808\u001b[0m     \u001b[39m#  InvalidIndexError. Otherwise we fall through and re-raise\u001b[39;00m\n\u001b[0;32m   3809\u001b[0m     \u001b[39m#  the TypeError.\u001b[39;00m\n\u001b[0;32m   3810\u001b[0m     \u001b[39mself\u001b[39m\u001b[39m.\u001b[39m_check_indexing_error(key)\n",
      "\u001b[1;31mKeyError\u001b[0m: 0"
     ]
    }
   ],
   "source": [
    "class Data:\n",
    " def __init__(self,data: dict, file: str, info):\n",
    "    self.info = info\n",
    "    self.tac_ch4 = data['tac_ch4']\n",
    "    self.tac_co2 = data['tac_co2']\n",
    "    self.tac_n2o = data['tac_n2o']\n",
    "    self.file = file\n",
    "    \n",
    " def tac_metadata(self):\n",
    "   if self.file[:3] == 'tac':\n",
    "      print('The location of this data set is Tacolneston, East Anglia.\\nThe site code is TAC')\n",
    "   \n",
    "   if self.file[:3] == 'mhd':\n",
    "      print('The location of this data set is Mace Head, W. coast of the Republic of Ireland.\\nThe site code is MHD')\n",
    "   print(f'the gas species is {self.file[4:]} ')\n",
    "   row = self.info.loc[self.info['species'] == self.file[4:]]\n",
    "   print(row[0])\n",
    "   if self.file == 'tac_ch4':\n",
    "      print(self.tac_ch4)\n",
    "   if self.file == 'tac_co2':\n",
    "      print(self.tac_co2)\n",
    "   if self.file == 'tac_n2o':\n",
    "      print(self.tac_n2o)\n",
    "   \n",
    "data_tac = Data(tac_mhd, 'tac_co2',spec_info)\n",
    "data_tac.tac_metadata()"
   ]
  },
  {
   "cell_type": "markdown",
   "metadata": {},
   "source": []
  },
  {
   "cell_type": "code",
   "execution_count": 27,
   "metadata": {},
   "outputs": [
    {
     "ename": "TypeError",
     "evalue": "Data.tac_metadata() takes 1 positional argument but 2 were given",
     "output_type": "error",
     "traceback": [
      "\u001b[1;31m---------------------------------------------------------------------------\u001b[0m",
      "\u001b[1;31mTypeError\u001b[0m                                 Traceback (most recent call last)",
      "Cell \u001b[1;32mIn [27], line 8\u001b[0m\n\u001b[0;32m      6\u001b[0m     \u001b[39mprint\u001b[39m(\u001b[39mself\u001b[39m\u001b[39m.\u001b[39mspecies)\n\u001b[0;32m      7\u001b[0m data_tac \u001b[39m=\u001b[39m Data(tac_mhd)\n\u001b[1;32m----> 8\u001b[0m data\u001b[39m.\u001b[39;49mtac_metadata(tac_mhd[\u001b[39m'\u001b[39;49m\u001b[39mtac_ch4\u001b[39;49m\u001b[39m'\u001b[39;49m])\n",
      "\u001b[1;31mTypeError\u001b[0m: Data.tac_metadata() takes 1 positional argument but 2 were given"
     ]
    }
   ],
   "source": [
    "# class Data:\n",
    "#  def __init__(self,data: dict):\n",
    "#     self.tac_ch4 = data['tac_ch4']\n",
    "    \n",
    "#  def tac_metadata(self,species):\n",
    "#     print(self.species)\n",
    "# data_tac = Data(tac_mhd)\n",
    "# data.tac_metadata(tac_mhd['tac_ch4'])"
   ]
  }
 ],
 "metadata": {
  "kernelspec": {
   "display_name": "Python 3",
   "language": "python",
   "name": "python3"
  },
  "language_info": {
   "codemirror_mode": {
    "name": "ipython",
    "version": 3
   },
   "file_extension": ".py",
   "mimetype": "text/x-python",
   "name": "python",
   "nbconvert_exporter": "python",
   "pygments_lexer": "ipython3",
   "version": "3.10.9"
  },
  "orig_nbformat": 4,
  "vscode": {
   "interpreter": {
    "hash": "ac019dee71ffef3809770ffe242ff2d710330653f213693e1080cdb322017d07"
   }
  }
 },
 "nbformat": 4,
 "nbformat_minor": 2
}
