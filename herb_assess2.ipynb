{
 "cells": [
  {
   "attachments": {},
   "cell_type": "markdown",
   "metadata": {},
   "source": [
    "# Assessment 2"
   ]
  },
  {
   "cell_type": "code",
   "execution_count": 6,
   "metadata": {},
   "outputs": [],
   "source": [
    "# importing modules\n",
    "import pandas as pd\n",
    "import numpy as np\n",
    "import matplotlib.pyplot as plt"
   ]
  },
  {
   "cell_type": "code",
   "execution_count": 7,
   "metadata": {},
   "outputs": [],
   "source": [
    "#reading in the data for mhd\n",
    "mhd_ch4 = pd.read_csv('data/mhd_ch4.csv')\n",
    "mhd_co2= pd.read_csv('data/mhd_co2.csv')\n",
    "mhd_n2o = pd.read_csv('data/mhd_n2o.csv')\n",
    "\n",
    "#reading in data for tac\n",
    "tac_ch4 = pd.read_csv('data/tac_ch4.csv')\n",
    "tac_co2= pd.read_csv('data/tac_co2.csv')\n",
    "tac_n2o = pd.read_csv('data/tac_n2o.csv')\n",
    "\n",
    "#creating dictionaries to make it easier to access data"
   ]
  },
  {
   "cell_type": "code",
   "execution_count": null,
   "metadata": {},
   "outputs": [],
   "source": [
    "class Data:\n",
    " def __init__(self,)"
   ]
  }
 ],
 "metadata": {
  "kernelspec": {
   "display_name": "Python 3",
   "language": "python",
   "name": "python3"
  },
  "language_info": {
   "codemirror_mode": {
    "name": "ipython",
    "version": 3
   },
   "file_extension": ".py",
   "mimetype": "text/x-python",
   "name": "python",
   "nbconvert_exporter": "python",
   "pygments_lexer": "ipython3",
   "version": "3.10.9"
  },
  "orig_nbformat": 4,
  "vscode": {
   "interpreter": {
    "hash": "ac019dee71ffef3809770ffe242ff2d710330653f213693e1080cdb322017d07"
   }
  }
 },
 "nbformat": 4,
 "nbformat_minor": 2
}
