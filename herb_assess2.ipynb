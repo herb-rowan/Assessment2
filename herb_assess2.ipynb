{
 "cells": [
  {
   "attachments": {},
   "cell_type": "markdown",
   "metadata": {},
   "source": [
    "# Assessment 2"
   ]
  },
  {
   "cell_type": "code",
   "execution_count": 54,
   "metadata": {},
   "outputs": [],
   "source": [
    "# importing modules\n",
    "import pandas as pd\n",
    "import numpy as np\n",
    "import matplotlib.pyplot as plt"
   ]
  },
  {
   "cell_type": "code",
   "execution_count": 55,
   "metadata": {},
   "outputs": [
    {
     "name": "stdout",
     "output_type": "stream",
     "text": [
      "  species scale units\n",
      "0     co2  noaa   ppm\n",
      "1     ch4   sio   ppb\n",
      "2     n2o   sio   ppb\n"
     ]
    }
   ],
   "source": [
    "#reading in the data for mhd\n",
    "mhd_ch4 = pd.read_csv('data/mhd_ch4.csv')\n",
    "mhd_co2= pd.read_csv('data/mhd_co2.csv')\n",
    "mhd_n2o = pd.read_csv('data/mhd_n2o.csv')\n",
    "\n",
    "#reading in data for tac\n",
    "tac_ch4 = pd.read_csv('data/tac_ch4.csv')\n",
    "tac_co2= pd.read_csv('data/tac_co2.csv')\n",
    "tac_n2o = pd.read_csv('data/tac_n2o.csv')\n",
    "\n",
    "#reading in species information\n",
    "spec_info = pd.read_csv('data/species_info.csv')  \n",
    "print(spec_info)\n",
    "#creating dictionaries to make it easier to access data\n",
    "tac_mhd = {'tac_ch4': tac_ch4, 'tac_co2': tac_co2, 'tac_n2o': tac_n2o, 'mhd_ch4':mhd_ch4, 'mhd_co2':mhd_co2, 'mhd_n2o':mhd_n2o}\n",
    "\n"
   ]
  },
  {
   "cell_type": "code",
   "execution_count": 56,
   "metadata": {},
   "outputs": [],
   "source": [
    "# class Data:\n",
    "#  def __init__(self,data_tac,data_mhd):\n",
    "#     self.data_tac = data_tac\n",
    "#     self.data_mhd = data_mhd\n",
    "#  def tac_metadata(self):\n",
    "#     print(self.data_mhd)\n",
    "# data = Data(data_tac['tac_ch4'], data_mhd['mhd_ch4'])\n",
    "# data.tac_metadata()"
   ]
  },
  {
   "cell_type": "code",
   "execution_count": 94,
   "metadata": {},
   "outputs": [],
   "source": [
    "class Data:\n",
    "   def __init__(self,data: dict, file: str, info):\n",
    "      self.data = data\n",
    "      self.info = info\n",
    "      self.file = file\n",
    "   def metadata(self):\n",
    "      if self.file[:3] == 'tac':\n",
    "         print('The location of this data set is Tacolneston, East Anglia.\\nThe site code is TAC')\n",
    "      if self.file[:3] == 'mhd':\n",
    "         print('The location of this data set is Mace Head, W. coast of the Republic of Ireland.\\nThe site code is MHD')\n",
    "      row = self.info.loc[self.info['species'] == self.file[4:]]\n",
    "  \n",
    "      gas_species = row.iloc[0]['species']\n",
    "      cali_scale = row.iloc[0]['scale']\n",
    "      units = row.iloc[0]['units']\n",
    "\n",
    "      print(f'the gas species is {gas_species} ')\n",
    "      print(f'the scale used is {cali_scale} ')\n",
    "      print(f'the units are {units} ')\n",
    "      \n",
    "      print(self.data[self.file])\n",
    "   def running_avg(self, time_frame):\n",
    "      self.time_frame = time_frame\n",
    "      df_avg = self.data[self.file]\n",
    "      #df_avg['time'] = pd.to_datetime(df_avg['time'])\n",
    "      if self.time_frame == 'month':\n",
    "            df_avg[self.time_frame] = df_avg['time'].dt.month\n",
    "      elif self.time_frame == 'year':\n",
    "         df_avg[self.time_frame] = df_avg['time'].dt.year\n",
    "      elif self.time_frame == 'day':\n",
    "         df_avg[self.time_frame] = df_avg['time'].dt.day\n",
    "      else:\n",
    "         print(\"Invalid time frame\")\n",
    "      grouped_df = df_avg.groupby(self.time_frame)\n",
    "      avg_vals = grouped_df['mf'].mean()\n",
    "      #print(avg_vals_day)\n",
    "      #print(grouped_df)\n",
    "      #df_avg.query[df_avg['time']>00:00:00 and df_avg['time']>23:00:00]\n",
    "   #def plot_running_avgs\n",
    "\n",
    "   \n",
    "data_tac_mhd = Data(tac_mhd, 'tac_n2o',spec_info)\n",
    "\n",
    "data_tac_mhd.running_avg('day')"
   ]
  },
  {
   "cell_type": "code",
   "execution_count": null,
   "metadata": {},
   "outputs": [],
   "source": []
  },
  {
   "cell_type": "code",
   "execution_count": null,
   "metadata": {},
   "outputs": [],
   "source": []
  },
  {
   "cell_type": "code",
   "execution_count": null,
   "metadata": {},
   "outputs": [],
   "source": []
  },
  {
   "cell_type": "code",
   "execution_count": null,
   "metadata": {},
   "outputs": [],
   "source": []
  },
  {
   "cell_type": "code",
   "execution_count": null,
   "metadata": {},
   "outputs": [],
   "source": []
  },
  {
   "cell_type": "code",
   "execution_count": null,
   "metadata": {},
   "outputs": [],
   "source": []
  },
  {
   "cell_type": "code",
   "execution_count": null,
   "metadata": {},
   "outputs": [],
   "source": []
  },
  {
   "cell_type": "markdown",
   "metadata": {},
   "source": []
  },
  {
   "cell_type": "code",
   "execution_count": 58,
   "metadata": {},
   "outputs": [],
   "source": [
    "# class Data:\n",
    "#  def __init__(self,data: dict):\n",
    "#     self.tac_ch4 = data['tac_ch4']\n",
    "    \n",
    "#  def tac_metadata(self,species):\n",
    "#     print(self.species)\n",
    "# data_tac = Data(tac_mhd)\n",
    "# data.tac_metadata(tac_mhd['tac_ch4'])"
   ]
  }
 ],
 "metadata": {
  "kernelspec": {
   "display_name": "Python 3",
   "language": "python",
   "name": "python3"
  },
  "language_info": {
   "codemirror_mode": {
    "name": "ipython",
    "version": 3
   },
   "file_extension": ".py",
   "mimetype": "text/x-python",
   "name": "python",
   "nbconvert_exporter": "python",
   "pygments_lexer": "ipython3",
   "version": "3.10.9"
  },
  "orig_nbformat": 4,
  "vscode": {
   "interpreter": {
    "hash": "ac019dee71ffef3809770ffe242ff2d710330653f213693e1080cdb322017d07"
   }
  }
 },
 "nbformat": 4,
 "nbformat_minor": 2
}
